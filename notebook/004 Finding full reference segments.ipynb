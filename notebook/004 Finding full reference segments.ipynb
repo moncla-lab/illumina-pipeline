{
 "cells": [
  {
   "cell_type": "markdown",
   "id": "c486208a-2ce3-4ebd-89b4-a54f0c68de89",
   "metadata": {},
   "source": [
    "# Finding complete references for use with VAPOR\n",
    "## April 18th, 2025\n",
    "\n",
    "Today we'll search through the [h5-data-updates](https://github.com/moncla-lab/h5-data-updates) repo for complete references, in particular those that contain Uni12 and Uni13. We'll do something simple: instead of aligning, we'll do string matching. We'll look for matches that can be off by a configurable number of bases, starting with 1 since it is known that there is some circulating diversity in these generally conserved regions.\n",
    "\n",
    "First some imports and definitions:"
   ]
  },
  {
   "cell_type": "code",
   "execution_count": 1,
   "id": "ba797a05-19a2-4c24-855d-4e4c92b72d5b",
   "metadata": {},
   "outputs": [
    {
     "name": "stdout",
     "output_type": "stream",
     "text": [
      "Uni12: agcaaaagcagg\n",
      "Uni13: ccttgtttctact\n"
     ]
    }
   ],
   "source": [
    "from Bio import SeqIO\n",
    "from Bio.Seq import Seq\n",
    "\n",
    "\n",
    "uni12 = 'AGCAAAAGCAGG'.lower()\n",
    "uni13 = str(Seq('AGTAGAAACAAGG').reverse_complement()).lower()\n",
    "\n",
    "print('Uni12:', uni12)\n",
    "print('Uni13:', uni13)"
   ]
  },
  {
   "cell_type": "markdown",
   "id": "dd0783b4-ee46-49ae-90f0-131c9f729cf7",
   "metadata": {},
   "source": [
    "Let's build a little functionality based on the [Hamming distance](https://en.wikipedia.org/wiki/Hamming_distance). We can check that the reference we've built is indeed complete in this sense, and the one we were using before was not."
   ]
  },
  {
   "cell_type": "code",
   "execution_count": 2,
   "id": "1344ab49-5ebb-47be-9185-abf972160218",
   "metadata": {},
   "outputs": [
    {
     "name": "stdout",
     "output_type": "stream",
     "text": [
      "Our crafted reference is complete: True\n",
      "The previous reference is complete: False\n"
     ]
    }
   ],
   "source": [
    "def within_hamming_distance(first_string, second_string, distance=1):\n",
    "    if len(first_string) != len(second_string):\n",
    "        print('unequal')\n",
    "        return False\n",
    "    positions_that_mismatch = [c1 != c2 for c1, c2 in zip(first_string, second_string)]\n",
    "    number_of_mismatches = sum(positions_that_mismatch)\n",
    "    return number_of_mismatches <= distance\n",
    "\n",
    "\n",
    "def has_uni12_and_uni13(record, distance=1):\n",
    "    five_prime_end = record.seq.lower()[:len(uni12)]\n",
    "    has_uni12 = within_hamming_distance(uni12, five_prime_end)\n",
    "\n",
    "    three_prime_end = record.seq.lower()[-len(uni13):]\n",
    "    has_uni13 = within_hamming_distance(uni13, three_prime_end)\n",
    "    \n",
    "    return has_uni12 and has_uni13\n",
    "\n",
    "# can share this FASTA if necessary\n",
    "moncla_lab_HA = SeqIO.read('./choose-reference/chosen-reference/ha.fasta', 'fasta')\n",
    "print('Our crafted reference is complete:', has_uni12_and_uni13(moncla_lab_HA))\n",
    "\n",
    "previous_reference = SeqIO.read('PQ719273.1.fasta', 'fasta')\n",
    "print('The previous reference is complete:', has_uni12_and_uni13(previous_reference))"
   ]
  },
  {
   "cell_type": "markdown",
   "id": "cc41bb22-4f56-47c1-a5c1-5d9a26be2da6",
   "metadata": {},
   "source": [
    "Let's now see many sequences are complete in this sense and write those that are to respective FASTA files."
   ]
  },
  {
   "cell_type": "code",
   "execution_count": 3,
   "id": "67d6c131-e0c7-4301-84dd-0d85b6a08062",
   "metadata": {},
   "outputs": [
    {
     "name": "stdout",
     "output_type": "stream",
     "text": [
      "Total number of complete pb2 sequences: 3162 out of 30438\n",
      "Total number of complete pb1 sequences: 3083 out of 30283\n",
      "Total number of complete pa sequences: 2770 out of 30511\n",
      "Total number of complete ha sequences: 2794 out of 37201\n",
      "Total number of complete np sequences: 3339 out of 30959\n",
      "Total number of complete na sequences: 2688 out of 32999\n",
      "Total number of complete mp sequences: 3528 out of 30829\n",
      "Total number of complete ns sequences: 3349 out of 30500\n"
     ]
    }
   ],
   "source": [
    "segments = ['pb2', 'pb1', 'pa', 'ha', 'np', 'na', 'mp', 'ns']\n",
    "for segment in segments:\n",
    "    number_of_sequences_for_this_segment = 0\n",
    "    number_of_complete_sequences = 0\n",
    "    complete_records = []\n",
    "    path_to_all_records = f'h5-data-updates/h5nx/{segment}/sequences.fasta'\n",
    "    fasta = SeqIO.parse(path_to_all_records, 'fasta')\n",
    "    for record in fasta:\n",
    "        number_of_sequences_for_this_segment += 1\n",
    "        if has_uni12_and_uni13(record):\n",
    "            complete_records.append(record)\n",
    "            number_of_complete_sequences += 1\n",
    "    print(\n",
    "        f'Total number of complete {segment} sequences:',\n",
    "        number_of_complete_sequences, 'out of', number_of_sequences_for_this_segment\n",
    "    )\n",
    "    path_to_complete_segments = f'{segment}-complete.fasta'\n",
    "    SeqIO.write(complete_records, path_to_complete_segments, 'fasta')"
   ]
  }
 ],
 "metadata": {
  "kernelspec": {
   "display_name": "Python 3 (ipykernel)",
   "language": "python",
   "name": "python3"
  },
  "language_info": {
   "codemirror_mode": {
    "name": "ipython",
    "version": 3
   },
   "file_extension": ".py",
   "mimetype": "text/x-python",
   "name": "python",
   "nbconvert_exporter": "python",
   "pygments_lexer": "ipython3",
   "version": "3.12.9"
  }
 },
 "nbformat": 4,
 "nbformat_minor": 5
}
